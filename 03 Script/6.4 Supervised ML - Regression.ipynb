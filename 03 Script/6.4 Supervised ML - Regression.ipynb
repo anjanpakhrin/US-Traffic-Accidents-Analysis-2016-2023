{
 "cells": [
  {
   "cell_type": "markdown",
   "id": "b4489f5f-8850-4850-adce-ebdef6d2d890",
   "metadata": {},
   "source": [
    "## **6.4: Supervised Machine Learning: Regression**"
   ]
  },
  {
   "cell_type": "markdown",
   "id": "a4a67208-56f2-4af6-a55a-f0f6e542dfc7",
   "metadata": {},
   "source": [
    "### **Contents**\n",
    "1. Importing Libraries for Visualization and Geospatial Analysis\n",
    "2. Importing Analysis Data\n",
    "3. Data Cleaning\n",
    "4. Data Preparation for Regression Analysis\n",
    "5. Regression Anylsis\n",
    "6. Summary"
   ]
  },
  {
   "cell_type": "markdown",
   "id": "b58e746f-9998-4973-a3e2-3b1c1ff5969c",
   "metadata": {},
   "source": [
    "### **1. Importing Libraries**"
   ]
  },
  {
   "cell_type": "code",
   "execution_count": 1,
   "id": "4da13d57-a64e-4066-ab8e-1b0c38ef294a",
   "metadata": {},
   "outputs": [],
   "source": [
    "# Importing libraries\n",
    "import pandas as pd\n",
    "import numpy as np\n",
    "import seaborn as sns\n",
    "import matplotlib\n",
    "import matplotlib.pyplot as plt\n",
    "import os\n",
    "import sklearn\n",
    "from sklearn.model_selection import train_test_split \n",
    "from sklearn.linear_model import LinearRegression\n",
    "from sklearn.metrics import mean_squared_error, r2_score\n",
    "from scipy import stats"
   ]
  },
  {
   "cell_type": "markdown",
   "id": "052befdf-82f0-441f-bef1-ed3b662634d0",
   "metadata": {},
   "source": [
    "### **2. Importing Analysis Data**"
   ]
  },
  {
   "cell_type": "code",
   "execution_count": 2,
   "id": "5a682657-40de-473d-973e-f91a56cd91e7",
   "metadata": {},
   "outputs": [],
   "source": [
    "# Create data path\n",
    "path = r'/Users/anjanpakhrin/Documents/US Accidents Analysis 2016-2023'"
   ]
  },
  {
   "cell_type": "code",
   "execution_count": 3,
   "id": "864f16a8-cc31-4079-9e60-fa019cf86a57",
   "metadata": {},
   "outputs": [],
   "source": [
    "# Importing cleaned DataFrame from previous step\n",
    "df_accidents = pd.read_pickle(os.path.join(path, '02 Data', 'Prepared Data', 'us_accidents_6-3.pkl'))"
   ]
  },
  {
   "cell_type": "code",
   "execution_count": 4,
   "id": "ce1d3b21-4351-4b7c-8f69-0f08375a48b9",
   "metadata": {},
   "outputs": [
    {
     "data": {
      "text/html": [
       "<div>\n",
       "<style scoped>\n",
       "    .dataframe tbody tr th:only-of-type {\n",
       "        vertical-align: middle;\n",
       "    }\n",
       "\n",
       "    .dataframe tbody tr th {\n",
       "        vertical-align: top;\n",
       "    }\n",
       "\n",
       "    .dataframe thead th {\n",
       "        text-align: right;\n",
       "    }\n",
       "</style>\n",
       "<table border=\"1\" class=\"dataframe\">\n",
       "  <thead>\n",
       "    <tr style=\"text-align: right;\">\n",
       "      <th></th>\n",
       "      <th>id</th>\n",
       "      <th>source</th>\n",
       "      <th>severity</th>\n",
       "      <th>start_time</th>\n",
       "      <th>end_time</th>\n",
       "      <th>distance(mi)</th>\n",
       "      <th>state</th>\n",
       "      <th>temperature(f)</th>\n",
       "      <th>wind_chill(f)</th>\n",
       "      <th>humidity(%)</th>\n",
       "      <th>...</th>\n",
       "      <th>astronomical_twilight</th>\n",
       "      <th>month</th>\n",
       "      <th>month_name</th>\n",
       "      <th>day_of_week</th>\n",
       "      <th>accident_day</th>\n",
       "      <th>accident_hour</th>\n",
       "      <th>time_of_day</th>\n",
       "      <th>severity_label</th>\n",
       "      <th>extreme_flag</th>\n",
       "      <th>year</th>\n",
       "    </tr>\n",
       "  </thead>\n",
       "  <tbody>\n",
       "    <tr>\n",
       "      <th>0</th>\n",
       "      <td>A-1</td>\n",
       "      <td>Source2</td>\n",
       "      <td>3</td>\n",
       "      <td>2016-02-08 05:46:00</td>\n",
       "      <td>2016-02-08 11:00:00</td>\n",
       "      <td>0.01</td>\n",
       "      <td>Ohio</td>\n",
       "      <td>36.900002</td>\n",
       "      <td>0.0</td>\n",
       "      <td>91.0</td>\n",
       "      <td>...</td>\n",
       "      <td>Night</td>\n",
       "      <td>2</td>\n",
       "      <td>February</td>\n",
       "      <td>0</td>\n",
       "      <td>Monday</td>\n",
       "      <td>5</td>\n",
       "      <td>Night</td>\n",
       "      <td>Serious</td>\n",
       "      <td>False</td>\n",
       "      <td>2016</td>\n",
       "    </tr>\n",
       "    <tr>\n",
       "      <th>1</th>\n",
       "      <td>A-2</td>\n",
       "      <td>Source2</td>\n",
       "      <td>2</td>\n",
       "      <td>2016-02-08 06:07:59</td>\n",
       "      <td>2016-02-08 06:37:59</td>\n",
       "      <td>0.01</td>\n",
       "      <td>Ohio</td>\n",
       "      <td>37.900002</td>\n",
       "      <td>0.0</td>\n",
       "      <td>100.0</td>\n",
       "      <td>...</td>\n",
       "      <td>Day</td>\n",
       "      <td>2</td>\n",
       "      <td>February</td>\n",
       "      <td>0</td>\n",
       "      <td>Monday</td>\n",
       "      <td>6</td>\n",
       "      <td>Morning</td>\n",
       "      <td>Moderate</td>\n",
       "      <td>False</td>\n",
       "      <td>2016</td>\n",
       "    </tr>\n",
       "  </tbody>\n",
       "</table>\n",
       "<p>2 rows × 29 columns</p>\n",
       "</div>"
      ],
      "text/plain": [
       "    id   source  severity          start_time            end_time  \\\n",
       "0  A-1  Source2         3 2016-02-08 05:46:00 2016-02-08 11:00:00   \n",
       "1  A-2  Source2         2 2016-02-08 06:07:59 2016-02-08 06:37:59   \n",
       "\n",
       "   distance(mi) state  temperature(f)  wind_chill(f)  humidity(%)  ...  \\\n",
       "0          0.01  Ohio       36.900002            0.0         91.0  ...   \n",
       "1          0.01  Ohio       37.900002            0.0        100.0  ...   \n",
       "\n",
       "   astronomical_twilight  month month_name  day_of_week  accident_day  \\\n",
       "0                  Night      2   February            0        Monday   \n",
       "1                    Day      2   February            0        Monday   \n",
       "\n",
       "  accident_hour time_of_day severity_label extreme_flag  year  \n",
       "0             5       Night        Serious        False  2016  \n",
       "1             6     Morning       Moderate        False  2016  \n",
       "\n",
       "[2 rows x 29 columns]"
      ]
     },
     "execution_count": 4,
     "metadata": {},
     "output_type": "execute_result"
    }
   ],
   "source": [
    "# Checking output\n",
    "df_accidents.head(2)"
   ]
  },
  {
   "cell_type": "markdown",
   "id": "a7a5ba7c-a388-4ebe-811f-6ece32cf93f3",
   "metadata": {},
   "source": [
    "### **3. Data Cleaning**"
   ]
  },
  {
   "cell_type": "code",
   "execution_count": 5,
   "id": "ce19c64f-bf28-4b1c-8aca-d8fe03505bac",
   "metadata": {},
   "outputs": [
    {
     "data": {
      "text/plain": [
       "(7477440, 29)"
      ]
     },
     "execution_count": 5,
     "metadata": {},
     "output_type": "execute_result"
    }
   ],
   "source": [
    "# Checking data shape\n",
    "df_accidents.shape"
   ]
  },
  {
   "cell_type": "markdown",
   "id": "23b7d9e3-0886-449a-a664-63e44c0fceb8",
   "metadata": {},
   "source": [
    "**3.1: Check for Missing Values**"
   ]
  },
  {
   "cell_type": "code",
   "execution_count": 6,
   "id": "cb33949a-e2f0-414b-ad9e-701079c1237e",
   "metadata": {},
   "outputs": [
    {
     "data": {
      "text/plain": [
       "id                       0\n",
       "source                   0\n",
       "severity                 0\n",
       "start_time               0\n",
       "end_time                 0\n",
       "distance(mi)             0\n",
       "state                    0\n",
       "temperature(f)           0\n",
       "wind_chill(f)            0\n",
       "humidity(%)              0\n",
       "pressure(in)             0\n",
       "visibility(mi)           0\n",
       "wind_direction           0\n",
       "wind_speed(mph)          0\n",
       "precipitation(in)        0\n",
       "weather_condition        0\n",
       "sunrise_sunset           0\n",
       "civil_twilight           0\n",
       "nautical_twilight        0\n",
       "astronomical_twilight    0\n",
       "month                    0\n",
       "month_name               0\n",
       "day_of_week              0\n",
       "accident_day             0\n",
       "accident_hour            0\n",
       "time_of_day              0\n",
       "severity_label           0\n",
       "extreme_flag             0\n",
       "year                     0\n",
       "dtype: int64"
      ]
     },
     "execution_count": 6,
     "metadata": {},
     "output_type": "execute_result"
    }
   ],
   "source": [
    "# Check for missing values\n",
    "df_accidents.isnull().sum()"
   ]
  },
  {
   "cell_type": "markdown",
   "id": "6a884845-6dcc-41ee-bbe6-99e59eefbffb",
   "metadata": {},
   "source": [
    "**3.2: Duplicates Check**"
   ]
  },
  {
   "cell_type": "code",
   "execution_count": 7,
   "id": "4a26cbe9-7441-4195-869b-79b6a6585920",
   "metadata": {},
   "outputs": [],
   "source": [
    "# Check Duplicates\n",
    "dups = df_accidents.duplicated()"
   ]
  },
  {
   "cell_type": "code",
   "execution_count": 8,
   "id": "78589cd1-26be-4e03-b990-06c3687a5b8e",
   "metadata": {},
   "outputs": [
    {
     "data": {
      "text/plain": [
       "(7477440,)"
      ]
     },
     "execution_count": 8,
     "metadata": {},
     "output_type": "execute_result"
    }
   ],
   "source": [
    "# No dups\n",
    "dups.shape"
   ]
  },
  {
   "cell_type": "markdown",
   "id": "488b0880-5e8d-4e22-b0b8-db6aea3f4e57",
   "metadata": {},
   "source": [
    "> **No Duplicates found**"
   ]
  },
  {
   "cell_type": "markdown",
   "id": "3df74589-2cd1-4c3a-b593-28040d8ac45e",
   "metadata": {},
   "source": [
    "**3.3: Check for Extreme Values**"
   ]
  },
  {
   "attachments": {},
   "cell_type": "markdown",
   "id": "d2ce12b9-014b-4e85-ac33-1c2e514712a5",
   "metadata": {},
   "source": [
    "**Extreme Value Checke** have been already conducted in the previous exercises. However, **Extremes** can be checked in diiferent ways, such:\n",
    "- Interquartile Range (IQR) Method\n",
    "- Using Z-scores (Standard Deviation Method)\n",
    "- Visualization (boxplots & histograms) Method\n",
    "\n",
    "A few random checks for **extreme values** with **\"VISUALIZATION\"** will be conducted for a few selected variables, which are critical to investigate the raod accident frequency in this case."
   ]
  },
  {
   "cell_type": "markdown",
   "id": "0d8560da-af92-4b14-9445-0e134ecae0e4",
   "metadata": {},
   "source": [
    "**- Extremes Value Checks for \"temperature (f)\"**"
   ]
  },
  {
   "cell_type": "code",
   "execution_count": 9,
   "id": "5a31da27-951a-40cd-9b68-540b1d5ccdcb",
   "metadata": {},
   "outputs": [
    {
     "data": {
      "image/png": "[encoded data removed]",
      "text/plain": [
       "<Figure size 640x480 with 1 Axes>"
      ]
     },
     "metadata": {},
     "output_type": "display_data"
    }
   ],
   "source": [
    "# Visualizing extreme values for 'temperature(f)'\n",
    "sns.histplot(df_accidents['temperature(f)'], bins=20, kde = False)\n",
    "plt.title('Distribution of Temperature Values', fontsize = 14, fontweight = 'bold')\n",
    "plt.xlabel('Temperature (F)', fontsize = 12)\n",
    "plt.ylabel('Number of Accidents', fontsize = 12)\n",
    "\n",
    "# Plotting y-axis value in normal number format\n",
    "plt.ticklabel_format(style='plain', axis='y')\n",
    "\n",
    "# Show histogram\n",
    "plt.show()"
   ]
  },
  {
   "cell_type": "code",
   "execution_count": 10,
   "id": "f7b0ea26-7055-46f5-ac2b-a2aa312f937d",
   "metadata": {},
   "outputs": [
    {
     "name": "stdout",
     "output_type": "stream",
     "text": [
      "* Mean of Temperature (F): 62.16\n",
      "* Median of Temperature (F): 64.0\n",
      "* Max of Temperature (F): 129.2\n"
     ]
    }
   ],
   "source": [
    "# Check the mean, median, max of \"Temperature\"\n",
    "\n",
    "print(\"* Mean of Temperature (F):\", round(df_accidents['temperature(f)'].mean(), 2))\n",
    "print(\"* Median of Temperature (F):\", round(df_accidents['temperature(f)'].median(), 2))\n",
    "print(\"* Max of Temperature (F):\", round(df_accidents['temperature(f)'].max(), 2))"
   ]
  },
  {
   "cell_type": "markdown",
   "id": "3c38fe8b-ce39-4c43-8b6f-2b6a3b1ef279",
   "metadata": {},
   "source": [
    "**- Extremes Value Checks for \"wind_chill (f)\"**"
   ]
  },
  {
   "cell_type": "code",
   "execution_count": 11,
   "id": "d42f3f52-a946-421d-bcc8-a5b3cc2eba12",
   "metadata": {},
   "outputs": [
    {
     "data": {
      "image/png": "[encoded data removed]",
      "text/plain": [
       "<Figure size 640x480 with 1 Axes>"
      ]
     },
     "metadata": {},
     "output_type": "display_data"
    }
   ],
   "source": [
    "sns.histplot(df_accidents['wind_chill(f)'], bins=20, kde = False)\n",
    "plt.title('Distribution of Wind Chill Values', fontsize = 14, fontweight = 'bold')\n",
    "plt.xlabel('Wind Chill (F)', fontsize = 12)\n",
    "plt.ylabel('Number of Accidents', fontsize = 12)\n",
    "\n",
    "# Plotting y-axis value in normal number format\n",
    "plt.ticklabel_format(style='plain', axis='y')\n",
    "\n",
    "# Show histogram\n",
    "plt.show()"
   ]
  },
  {
   "cell_type": "code",
   "execution_count": 12,
   "id": "0676fc5f-429a-493d-ac07-ed13f819e567",
   "metadata": {},
   "outputs": [
    {
     "name": "stdout",
     "output_type": "stream",
     "text": [
      "* Mean of Wind Chill (F): 43.18\n",
      "* Median of Wind Chill (F): 51.0\n",
      "* Max of Wind Chill (F): 128.0\n"
     ]
    }
   ],
   "source": [
    "# Check the mean, median, max of \"Wind Chill\"\n",
    "\n",
    "print(\"* Mean of Wind Chill (F):\", round(df_accidents['wind_chill(f)'].mean(), 2))\n",
    "print(\"* Median of Wind Chill (F):\", round(df_accidents['wind_chill(f)'].median(), 2))\n",
    "print(\"* Max of Wind Chill (F):\", round(df_accidents['wind_chill(f)'].max(), 2))"
   ]
  },
  {
   "cell_type": "markdown",
   "id": "52c564f0-bea0-4bb6-b8b7-d11edd474a41",
   "metadata": {},
   "source": [
    "**- Extremes Value Checks for \"humidity (%)\"**"
   ]
  },
  {
   "cell_type": "code",
   "execution_count": 13,
   "id": "5fba6a34-af85-47b5-bc30-5853b50f83c0",
   "metadata": {},
   "outputs": [
    {
     "data": {
      "image/png": "[encoded data removed]",
      "text/plain": [
       "<Figure size 640x480 with 1 Axes>"
      ]
     },
     "metadata": {},
     "output_type": "display_data"
    }
   ],
   "source": [
    "sns.histplot(df_accidents['humidity(%)'], bins=20, kde = False)\n",
    "plt.title('Distribution of Humidity Values', fontsize = 14, fontweight = 'bold')\n",
    "plt.xlabel('Humidity (%)', fontsize = 12)\n",
    "plt.ylabel('Number of Accidents', fontsize = 12)\n",
    "\n",
    "# Plotting y-axis value in normal number format\n",
    "plt.ticklabel_format(style='plain', axis='y')\n",
    "\n",
    "# Show histogram\n",
    "plt.show()"
   ]
  },
  {
   "cell_type": "markdown",
   "id": "02908e5e-990d-4798-993f-c673e7f6c4b6",
   "metadata": {},
   "source": [
    "> **No Outliers** found for humidity, since the values lie between 0 and 100%."
   ]
  },
  {
   "cell_type": "code",
   "execution_count": 14,
   "id": "c2d8192a-cb07-4125-a666-91c6a6cac70e",
   "metadata": {},
   "outputs": [
    {
     "name": "stdout",
     "output_type": "stream",
     "text": [
      "* Mean of Humidity (%): 64.78\n",
      "* Median of Humidity (%): 67.0\n",
      "* Max of Humidity (%): 100.0\n"
     ]
    }
   ],
   "source": [
    "# Check the mean, median, max of \"Humidity\"\n",
    "\n",
    "print(\"* Mean of Humidity (%):\", round(df_accidents['humidity(%)'].mean(), 2))\n",
    "print(\"* Median of Humidity (%):\", round(df_accidents['humidity(%)'].median(), 2))\n",
    "print(\"* Max of Humidity (%):\", round(df_accidents['humidity(%)'].max(), 2))"
   ]
  },
  {
   "cell_type": "markdown",
   "id": "563d0ed5-e144-45d2-a61f-2c06cb7612ae",
   "metadata": {},
   "source": [
    "**- Extremes Value Checks for \"visibility (mi)\"**"
   ]
  },
  {
   "cell_type": "code",
   "execution_count": 15,
   "id": "98d0f222-e924-4fab-b26d-63f2df9e21f6",
   "metadata": {},
   "outputs": [
    {
     "data": {
      "image/png": "[encoded data removed]",
      "text/plain": [
       "<Figure size 1200x600 with 1 Axes>"
      ]
     },
     "metadata": {},
     "output_type": "display_data"
    }
   ],
   "source": [
    "# Histogram for visibility\n",
    "from matplotlib.ticker import MultipleLocator\n",
    "\n",
    "# Define bin edges (bin width 20)\n",
    "min_vis = df_accidents['visibility(mi)'].min()\n",
    "max_vis = df_accidents['visibility(mi)'].max()\n",
    "bins = np.arange(min_vis, max_vis + 10, 10)\n",
    "\n",
    "# Compute histogram\n",
    "counts, bin_edges = np.histogram(df_accidents['visibility(mi)'], bins=bins)\n",
    "percentages = counts / counts.sum() * 100\n",
    "\n",
    "# Normalize counts to full height (100%)\n",
    "normalized_heights = np.ones_like(counts) * 100  # full height bars\n",
    "\n",
    "# Plot histogram with all bars full height\n",
    "plt.figure(figsize=(12,6))\n",
    "bars = plt.bar(\n",
    "    (bin_edges[:-1] + bin_edges[1:]) / 2,  # bin centers\n",
    "    normalized_heights,\n",
    "    width=(bin_edges[1] - bin_edges[0]) * 0.9,\n",
    "    color=\"skyblue\",\n",
    "    edgecolor=\"black\"\n",
    ")\n",
    "\n",
    "# Add percentage text inside each bar (rotated 90°)\n",
    "for bar, pct in zip(bars, percentages):\n",
    "    if pct > 0:\n",
    "        plt.text(\n",
    "            bar.get_x() + bar.get_width()/2,\n",
    "            50,                # middle of full-height bar\n",
    "            f\"{pct:.3f}%\",\n",
    "            ha=\"center\",\n",
    "            va=\"center\",\n",
    "            rotation=90,\n",
    "            fontsize=10,\n",
    "            fontweight=\"bold\",\n",
    "            color=\"black\"\n",
    "        )\n",
    "\n",
    "# Titles & labels\n",
    "plt.title(\"Distribution of Visibility\", fontsize=14, fontweight=\"bold\")\n",
    "plt.xlabel(\"Visibility (Mi)\", fontsize=12)\n",
    "plt.ylabel(\"Percentage of Accidents (%)\", fontsize=12)\n",
    "\n",
    "# X-axis ticks every 10\n",
    "plt.gca().xaxis.set_major_locator(MultipleLocator(10))\n",
    "\n",
    "# Y-axis 0-100%\n",
    "plt.ylim(0, 100)\n",
    "\n",
    "plt.show()"
   ]
  },
  {
   "cell_type": "code",
   "execution_count": 16,
   "id": "91e6f882-572b-4140-9cc0-6bc0f2dba760",
   "metadata": {},
   "outputs": [
    {
     "name": "stdout",
     "output_type": "stream",
     "text": [
      "* Mean of Visibility (Mi): 9.11\n",
      "* Median of Visibility (Mi): 10.0\n",
      "* Max of Visibility (Mi): 40.0\n"
     ]
    }
   ],
   "source": [
    "# Check the mean, median, max of \"Visibility (mi)\"\n",
    "\n",
    "print(\"* Mean of Visibility (Mi):\", round(df_accidents['visibility(mi)'].mean(), 2))\n",
    "print(\"* Median of Visibility (Mi):\", round(df_accidents['visibility(mi)'].median(), 2))\n",
    "print(\"* Max of Visibility (Mi):\", round(df_accidents['visibility(mi)'].max(), 2))"
   ]
  },
  {
   "cell_type": "markdown",
   "id": "b25ff751-d2a7-482e-ac8b-566b9abe1189",
   "metadata": {},
   "source": [
    "**- Extremes Value Checks for \"wind speed (mph)\"**"
   ]
  },
  {
   "cell_type": "code",
   "execution_count": 17,
   "id": "02108ba5-42d1-4c53-9556-5924bce8f639",
   "metadata": {},
   "outputs": [
    {
     "data": {
      "image/png": "[encoded data removed]",
      "text/plain": [
       "<Figure size 640x480 with 1 Axes>"
      ]
     },
     "metadata": {},
     "output_type": "display_data"
    }
   ],
   "source": [
    "# Histogram for wind speed\n",
    "sns.histplot(df_accidents['wind_speed(mph)'], bins=20, kde = False)\n",
    "plt.title('Distribution of Wind Speed', fontsize = 14, fontweight = 'bold')\n",
    "plt.xlabel('Wind Speed (Mph)', fontsize = 12)\n",
    "plt.ylabel('Number of Accidents', fontsize = 12)\n",
    "\n",
    "# Plotting y-axis value in normal number format\n",
    "plt.ticklabel_format(style='plain', axis='y')\n",
    "\n",
    "# Show histogram\n",
    "plt.show()"
   ]
  },
  {
   "cell_type": "code",
   "execution_count": 18,
   "id": "8cd77661-9191-4b48-9864-d1c44f0ca127",
   "metadata": {},
   "outputs": [
    {
     "name": "stdout",
     "output_type": "stream",
     "text": [
      "* Mean of Wind Speed (Mph): 7.62\n",
      "* Median of Wind Speed (Mph): 7.0\n",
      "* Max of Wind Speed (Mph): 119.7\n"
     ]
    }
   ],
   "source": [
    "# Check the mean, median, max of \"Wind Speed (mph)\"\n",
    "\n",
    "print(\"* Mean of Wind Speed (Mph):\", round(df_accidents['wind_speed(mph)'].mean(), 2))\n",
    "print(\"* Median of Wind Speed (Mph):\", round(df_accidents['wind_speed(mph)'].median(), 2))\n",
    "print(\"* Max of Wind Speed (Mph):\", round(df_accidents['wind_speed(mph)'].max(), 2))"
   ]
  },
  {
   "cell_type": "markdown",
   "id": "b0e109f4-94ff-4916-ae72-db1a5a1397ae",
   "metadata": {},
   "source": [
    "**- Extremes Value Checks for \"precipitation (in)\"**"
   ]
  },
  {
   "cell_type": "code",
   "execution_count": 19,
   "id": "fc1ed735-797a-4c13-93dc-5ef34a17b67c",
   "metadata": {},
   "outputs": [
    {
     "data": {
      "image/png": "[encoded data removed]",
      "text/plain": [
       "<Figure size 640x480 with 1 Axes>"
      ]
     },
     "metadata": {},
     "output_type": "display_data"
    }
   ],
   "source": [
    "# Histogram for precipitation(in)\n",
    "sns.histplot(df_accidents['precipitation(in)'], bins=20, kde = False)\n",
    "plt.title('Distribution of Precipitation', fontsize = 14, fontweight = 'bold')\n",
    "plt.xlabel('Precipiation (In)', fontsize = 12)\n",
    "plt.ylabel('Number of Accidents', fontsize = 12)\n",
    "\n",
    "# Plotting y-axis value in normal number format\n",
    "plt.ticklabel_format(style='plain', axis='y')\n",
    "\n",
    "# Show histogram\n",
    "plt.show()"
   ]
  },
  {
   "cell_type": "code",
   "execution_count": 20,
   "id": "5c410ef8-b84e-4e0c-ad4a-e4ddc884d06f",
   "metadata": {},
   "outputs": [
    {
     "name": "stdout",
     "output_type": "stream",
     "text": [
      "* Mean of Precipitation (in): 0.01\n",
      "* Median of Precipitation (in): 0.0\n",
      "* Max of Precipitation (in): 5.13\n"
     ]
    }
   ],
   "source": [
    "# Check the mean, median, max of \"Precipitation (in)\"\n",
    "\n",
    "print(\"* Mean of Precipitation (in):\", round(df_accidents['precipitation(in)'].mean(), 2))\n",
    "print(\"* Median of Precipitation (in):\", round(df_accidents['precipitation(in)'].median(), 2))\n",
    "print(\"* Max of Precipitation (in):\", round(df_accidents['precipitation(in)'].max(), 2))"
   ]
  },
  {
   "cell_type": "markdown",
   "id": "8c9bcc0f-6d63-415a-bbf0-2c4f5dbacea9",
   "metadata": {},
   "source": [
    "> **Outcomes of above conducted tests are based on the cleaned data in previous steps under following conditions:**\n",
    "> - Temperatur (°F): −60 - 130 (Covers extreme Alaska lows to Death Valley high)\n",
    "> - Wind Chill (°F): -80 - 130\n",
    "> - Visibility (mi): 0 - 40 (0: No visibility (dense fog, blizzard), 10: Clear, > 40: Not meaningful (sky is clear)).\n",
    "> - Wind Speed (mph): 0 - 120 (0: Calm, 60 - 100: Strong (Huricanes, Tornados, >120: Unlikely Outliers)\n",
    "> - Precipitation (in): 0 - 6 (2 - 3: Heavy rainfall, 6: Unrealistic) --> inches/hour)"
   ]
  },
  {
   "cell_type": "markdown",
   "id": "48154b9a-858a-4162-bb64-1eb72a9ce7dc",
   "metadata": {},
   "source": [
    "### 4. Data Preparation for Regression Analysis"
   ]
  },
  {
   "cell_type": "code",
   "execution_count": 21,
   "id": "84a96c4c-8d1b-4790-9e6e-29e6286b908d",
   "metadata": {},
   "outputs": [
    {
     "data": {
      "text/html": [
       "<div>\n",
       "<style scoped>\n",
       "    .dataframe tbody tr th:only-of-type {\n",
       "        vertical-align: middle;\n",
       "    }\n",
       "\n",
       "    .dataframe tbody tr th {\n",
       "        vertical-align: top;\n",
       "    }\n",
       "\n",
       "    .dataframe thead th {\n",
       "        text-align: right;\n",
       "    }\n",
       "</style>\n",
       "<table border=\"1\" class=\"dataframe\">\n",
       "  <thead>\n",
       "    <tr style=\"text-align: right;\">\n",
       "      <th></th>\n",
       "      <th>severity</th>\n",
       "      <th>start_time</th>\n",
       "      <th>end_time</th>\n",
       "      <th>distance(mi)</th>\n",
       "      <th>temperature(f)</th>\n",
       "      <th>wind_chill(f)</th>\n",
       "      <th>humidity(%)</th>\n",
       "      <th>pressure(in)</th>\n",
       "      <th>visibility(mi)</th>\n",
       "      <th>wind_speed(mph)</th>\n",
       "      <th>precipitation(in)</th>\n",
       "      <th>month</th>\n",
       "      <th>day_of_week</th>\n",
       "      <th>accident_hour</th>\n",
       "      <th>year</th>\n",
       "    </tr>\n",
       "  </thead>\n",
       "  <tbody>\n",
       "    <tr>\n",
       "      <th>count</th>\n",
       "      <td>7.477440e+06</td>\n",
       "      <td>7477440</td>\n",
       "      <td>7477440</td>\n",
       "      <td>7.477440e+06</td>\n",
       "      <td>7.477440e+06</td>\n",
       "      <td>7.477440e+06</td>\n",
       "      <td>7.477440e+06</td>\n",
       "      <td>7.477440e+06</td>\n",
       "      <td>7.477440e+06</td>\n",
       "      <td>7.477440e+06</td>\n",
       "      <td>7.477440e+06</td>\n",
       "      <td>7.477440e+06</td>\n",
       "      <td>7.477440e+06</td>\n",
       "      <td>7.477440e+06</td>\n",
       "      <td>7.477440e+06</td>\n",
       "    </tr>\n",
       "    <tr>\n",
       "      <th>mean</th>\n",
       "      <td>2.217383e+00</td>\n",
       "      <td>2020-05-03 10:30:10.550670080</td>\n",
       "      <td>2020-05-03 18:05:05.406967040</td>\n",
       "      <td>5.502621e-01</td>\n",
       "      <td>6.215557e+01</td>\n",
       "      <td>4.317581e+01</td>\n",
       "      <td>6.477541e+01</td>\n",
       "      <td>2.955597e+01</td>\n",
       "      <td>9.108811e+00</td>\n",
       "      <td>7.623274e+00</td>\n",
       "      <td>5.294464e-03</td>\n",
       "      <td>6.879121e+00</td>\n",
       "      <td>2.589605e+00</td>\n",
       "      <td>1.232464e+01</td>\n",
       "      <td>2.019807e+03</td>\n",
       "    </tr>\n",
       "    <tr>\n",
       "      <th>min</th>\n",
       "      <td>1.000000e+00</td>\n",
       "      <td>2016-01-14 20:18:33</td>\n",
       "      <td>2016-02-08 06:37:08</td>\n",
       "      <td>0.000000e+00</td>\n",
       "      <td>-5.800000e+01</td>\n",
       "      <td>-8.000000e+01</td>\n",
       "      <td>1.000000e+00</td>\n",
       "      <td>0.000000e+00</td>\n",
       "      <td>0.000000e+00</td>\n",
       "      <td>0.000000e+00</td>\n",
       "      <td>0.000000e+00</td>\n",
       "      <td>1.000000e+00</td>\n",
       "      <td>0.000000e+00</td>\n",
       "      <td>0.000000e+00</td>\n",
       "      <td>2.016000e+03</td>\n",
       "    </tr>\n",
       "    <tr>\n",
       "      <th>25%</th>\n",
       "      <td>2.000000e+00</td>\n",
       "      <td>2018-11-02 07:43:20.750000128</td>\n",
       "      <td>2018-11-02 08:32:44.750000128</td>\n",
       "      <td>0.000000e+00</td>\n",
       "      <td>5.000000e+01</td>\n",
       "      <td>0.000000e+00</td>\n",
       "      <td>4.900000e+01</td>\n",
       "      <td>2.940000e+01</td>\n",
       "      <td>1.000000e+01</td>\n",
       "      <td>5.000000e+00</td>\n",
       "      <td>0.000000e+00</td>\n",
       "      <td>4.000000e+00</td>\n",
       "      <td>1.000000e+00</td>\n",
       "      <td>8.000000e+00</td>\n",
       "      <td>2.018000e+03</td>\n",
       "    </tr>\n",
       "    <tr>\n",
       "      <th>50%</th>\n",
       "      <td>2.000000e+00</td>\n",
       "      <td>2020-10-20 14:49:00.500000</td>\n",
       "      <td>2020-10-20 19:53:39</td>\n",
       "      <td>2.000000e-02</td>\n",
       "      <td>6.400000e+01</td>\n",
       "      <td>5.100000e+01</td>\n",
       "      <td>6.700000e+01</td>\n",
       "      <td>2.986000e+01</td>\n",
       "      <td>1.000000e+01</td>\n",
       "      <td>7.000000e+00</td>\n",
       "      <td>0.000000e+00</td>\n",
       "      <td>7.000000e+00</td>\n",
       "      <td>3.000000e+00</td>\n",
       "      <td>1.300000e+01</td>\n",
       "      <td>2.020000e+03</td>\n",
       "    </tr>\n",
       "    <tr>\n",
       "      <th>75%</th>\n",
       "      <td>2.000000e+00</td>\n",
       "      <td>2021-12-13 07:23:47.249999872</td>\n",
       "      <td>2021-12-13 17:20:00</td>\n",
       "      <td>4.440000e-01</td>\n",
       "      <td>7.600000e+01</td>\n",
       "      <td>7.200000e+01</td>\n",
       "      <td>8.400000e+01</td>\n",
       "      <td>3.003000e+01</td>\n",
       "      <td>1.000000e+01</td>\n",
       "      <td>1.000000e+01</td>\n",
       "      <td>0.000000e+00</td>\n",
       "      <td>1.000000e+01</td>\n",
       "      <td>4.000000e+00</td>\n",
       "      <td>1.700000e+01</td>\n",
       "      <td>2.021000e+03</td>\n",
       "    </tr>\n",
       "    <tr>\n",
       "      <th>max</th>\n",
       "      <td>4.000000e+00</td>\n",
       "      <td>2022-12-31 23:59:03</td>\n",
       "      <td>2023-03-31 23:59:00</td>\n",
       "      <td>4.417500e+02</td>\n",
       "      <td>1.292000e+02</td>\n",
       "      <td>1.280000e+02</td>\n",
       "      <td>1.000000e+02</td>\n",
       "      <td>5.863000e+01</td>\n",
       "      <td>4.000000e+01</td>\n",
       "      <td>1.197000e+02</td>\n",
       "      <td>5.130000e+00</td>\n",
       "      <td>1.200000e+01</td>\n",
       "      <td>6.000000e+00</td>\n",
       "      <td>2.300000e+01</td>\n",
       "      <td>2.022000e+03</td>\n",
       "    </tr>\n",
       "    <tr>\n",
       "      <th>std</th>\n",
       "      <td>4.908915e-01</td>\n",
       "      <td>NaN</td>\n",
       "      <td>NaN</td>\n",
       "      <td>1.740815e+00</td>\n",
       "      <td>1.865803e+01</td>\n",
       "      <td>3.217795e+01</td>\n",
       "      <td>2.254175e+01</td>\n",
       "      <td>1.787278e+00</td>\n",
       "      <td>2.544325e+00</td>\n",
       "      <td>5.006503e+00</td>\n",
       "      <td>4.079930e-02</td>\n",
       "      <td>3.570041e+00</td>\n",
       "      <td>1.802322e+00</td>\n",
       "      <td>5.460166e+00</td>\n",
       "      <td>1.860330e+00</td>\n",
       "    </tr>\n",
       "  </tbody>\n",
       "</table>\n",
       "</div>"
      ],
      "text/plain": [
       "           severity                     start_time  \\\n",
       "count  7.477440e+06                        7477440   \n",
       "mean   2.217383e+00  2020-05-03 10:30:10.550670080   \n",
       "min    1.000000e+00            2016-01-14 20:18:33   \n",
       "25%    2.000000e+00  2018-11-02 07:43:20.750000128   \n",
       "50%    2.000000e+00     2020-10-20 14:49:00.500000   \n",
       "75%    2.000000e+00  2021-12-13 07:23:47.249999872   \n",
       "max    4.000000e+00            2022-12-31 23:59:03   \n",
       "std    4.908915e-01                            NaN   \n",
       "\n",
       "                            end_time  distance(mi)  temperature(f)  \\\n",
       "count                        7477440  7.477440e+06    7.477440e+06   \n",
       "mean   2020-05-03 18:05:05.406967040  5.502621e-01    6.215557e+01   \n",
       "min              2016-02-08 06:37:08  0.000000e+00   -5.800000e+01   \n",
       "25%    2018-11-02 08:32:44.750000128  0.000000e+00    5.000000e+01   \n",
       "50%              2020-10-20 19:53:39  2.000000e-02    6.400000e+01   \n",
       "75%              2021-12-13 17:20:00  4.440000e-01    7.600000e+01   \n",
       "max              2023-03-31 23:59:00  4.417500e+02    1.292000e+02   \n",
       "std                              NaN  1.740815e+00    1.865803e+01   \n",
       "\n",
       "       wind_chill(f)   humidity(%)  pressure(in)  visibility(mi)  \\\n",
       "count   7.477440e+06  7.477440e+06  7.477440e+06    7.477440e+06   \n",
       "mean    4.317581e+01  6.477541e+01  2.955597e+01    9.108811e+00   \n",
       "min    -8.000000e+01  1.000000e+00  0.000000e+00    0.000000e+00   \n",
       "25%     0.000000e+00  4.900000e+01  2.940000e+01    1.000000e+01   \n",
       "50%     5.100000e+01  6.700000e+01  2.986000e+01    1.000000e+01   \n",
       "75%     7.200000e+01  8.400000e+01  3.003000e+01    1.000000e+01   \n",
       "max     1.280000e+02  1.000000e+02  5.863000e+01    4.000000e+01   \n",
       "std     3.217795e+01  2.254175e+01  1.787278e+00    2.544325e+00   \n",
       "\n",
       "       wind_speed(mph)  precipitation(in)         month   day_of_week  \\\n",
       "count     7.477440e+06       7.477440e+06  7.477440e+06  7.477440e+06   \n",
       "mean      7.623274e+00       5.294464e-03  6.879121e+00  2.589605e+00   \n",
       "min       0.000000e+00       0.000000e+00  1.000000e+00  0.000000e+00   \n",
       "25%       5.000000e+00       0.000000e+00  4.000000e+00  1.000000e+00   \n",
       "50%       7.000000e+00       0.000000e+00  7.000000e+00  3.000000e+00   \n",
       "75%       1.000000e+01       0.000000e+00  1.000000e+01  4.000000e+00   \n",
       "max       1.197000e+02       5.130000e+00  1.200000e+01  6.000000e+00   \n",
       "std       5.006503e+00       4.079930e-02  3.570041e+00  1.802322e+00   \n",
       "\n",
       "       accident_hour          year  \n",
       "count   7.477440e+06  7.477440e+06  \n",
       "mean    1.232464e+01  2.019807e+03  \n",
       "min     0.000000e+00  2.016000e+03  \n",
       "25%     8.000000e+00  2.018000e+03  \n",
       "50%     1.300000e+01  2.020000e+03  \n",
       "75%     1.700000e+01  2.021000e+03  \n",
       "max     2.300000e+01  2.022000e+03  \n",
       "std     5.460166e+00  1.860330e+00  "
      ]
     },
     "execution_count": 21,
     "metadata": {},
     "output_type": "execute_result"
    }
   ],
   "source": [
    "# Check basic descriptive stats\n",
    "df_accidents.describe()"
   ]
  },
  {
   "cell_type": "markdown",
   "id": "1c9dcda1-ce3d-4f3d-8736-e3c6ad2d223a",
   "metadata": {},
   "source": [
    "#### **Hypothesis to test:** The number of traffic accidents increases as daily average humidity rises."
   ]
  },
  {
   "cell_type": "markdown",
   "id": "49bbdf05-840b-4d4f-bda4-85c895e804c2",
   "metadata": {},
   "source": [
    "**4.1: Select Variables**"
   ]
  },
  {
   "cell_type": "code",
   "execution_count": 22,
   "id": "4e71886b-cf36-4f92-a028-7caa8f9fe083",
   "metadata": {},
   "outputs": [],
   "source": [
    "# Aggregate accident counts by day\n",
    "\n",
    "accident_daily = df_accidents.groupby(df_accidents['start_time'].dt.date).agg({\n",
    "    'humidity(%)': 'mean',\n",
    "    'id': 'count'     # Count number of accidents\n",
    "}).rename(columns={'id': 'accident_count'}).reset_index()"
   ]
  },
  {
   "cell_type": "code",
   "execution_count": 23,
   "id": "15964dec-e146-4d0a-930e-f56fcc2ea970",
   "metadata": {},
   "outputs": [],
   "source": [
    "# Select and reshape variables to for analysis based on hypothesis\n",
    "# Independet Variables\n",
    "X = accident_daily['humidity(%)'].values.reshape (-1, 1)\n",
    "\n",
    "# Dependent Variables\n",
    "y = accident_daily['accident_count'].values.reshape(-1, 1)"
   ]
  },
  {
   "cell_type": "code",
   "execution_count": 24,
   "id": "158b786c-e784-4028-b3f3-54fc0eb2eb62",
   "metadata": {},
   "outputs": [
    {
     "data": {
      "text/plain": [
       "array([[69.      ],\n",
       "       [91.816666],\n",
       "       [87.118645],\n",
       "       ...,\n",
       "       [68.99947 ],\n",
       "       [75.91075 ],\n",
       "       [88.68509 ]], shape=(2499, 1), dtype=float32)"
      ]
     },
     "execution_count": 24,
     "metadata": {},
     "output_type": "execute_result"
    }
   ],
   "source": [
    "X"
   ]
  },
  {
   "cell_type": "code",
   "execution_count": 25,
   "id": "fd407f4d-4081-47a2-8dcd-2e1bb2d03c1c",
   "metadata": {},
   "outputs": [
    {
     "data": {
      "text/plain": [
       "array([[   7],\n",
       "       [  60],\n",
       "       [  59],\n",
       "       ...,\n",
       "       [5684],\n",
       "       [6555],\n",
       "       [5808]], shape=(2499, 1))"
      ]
     },
     "execution_count": 25,
     "metadata": {},
     "output_type": "execute_result"
    }
   ],
   "source": [
    "y"
   ]
  },
  {
   "cell_type": "markdown",
   "id": "55803a2f-de3a-4d9c-b6d2-1ed8405ac310",
   "metadata": {},
   "source": [
    "**4.2: Split Data**"
   ]
  },
  {
   "cell_type": "code",
   "execution_count": 26,
   "id": "2a96fcda-b2cd-43ea-a86b-c04d93348f41",
   "metadata": {},
   "outputs": [],
   "source": [
    "# Split data into training and test set\n",
    "# Test dataset = 30%\n",
    "# Train dataset = 70%'\n",
    "\n",
    "X_train, X_test, y_train, y_test = train_test_split(X, y, test_size=0.3, random_state=0)"
   ]
  },
  {
   "cell_type": "markdown",
   "id": "8fe7c353-07ff-4a34-bb14-47a9c41fe711",
   "metadata": {},
   "source": [
    "### 5: Regression Analysis"
   ]
  },
  {
   "cell_type": "code",
   "execution_count": 27,
   "id": "4e0f14c4-f135-4c21-be88-53d01bdb7775",
   "metadata": {},
   "outputs": [],
   "source": [
    "# Create a regression object\n",
    "\n",
    "regression = LinearRegression() # Regression object to be fitted onto the training set"
   ]
  },
  {
   "cell_type": "code",
   "execution_count": 28,
   "id": "cc313a57-861f-4d7d-b2e2-5f006d8414f0",
   "metadata": {},
   "outputs": [
    {
     "data": {
      "text/html": [
       "<style>#sk-container-id-1 {\n",
       "  /* Definition of color scheme common for light and dark mode */\n",
       "  --sklearn-color-text: #000;\n",
       "  --sklearn-color-text-muted: #666;\n",
       "  --sklearn-color-line: gray;\n",
       "  /* Definition of color scheme for unfitted estimators */\n",
       "  --sklearn-color-unfitted-level-0: #fff5e6;\n",
       "  --sklearn-color-unfitted-level-1: #f6e4d2;\n",
       "  --sklearn-color-unfitted-level-2: #ffe0b3;\n",
       "  --sklearn-color-unfitted-level-3: chocolate;\n",
       "  /* Definition of color scheme for fitted estimators */\n",
       "  --sklearn-color-fitted-level-0: #f0f8ff;\n",
       "  --sklearn-color-fitted-level-1: #d4ebff;\n",
       "  --sklearn-color-fitted-level-2: #b3dbfd;\n",
       "  --sklearn-color-fitted-level-3: cornflowerblue;\n",
       "\n",
       "  /* Specific color for light theme */\n",
       "  --sklearn-color-text-on-default-background: var(--sg-text-color, var(--theme-code-foreground, var(--jp-content-font-color1, black)));\n",
       "  --sklearn-color-background: var(--sg-background-color, var(--theme-background, var(--jp-layout-color0, white)));\n",
       "  --sklearn-color-border-box: var(--sg-text-color, var(--theme-code-foreground, var(--jp-content-font-color1, black)));\n",
       "  --sklearn-color-icon: #696969;\n",
       "\n",
       "  @media (prefers-color-scheme: dark) {\n",
       "    /* Redefinition of color scheme for dark theme */\n",
       "    --sklearn-color-text-on-default-background: var(--sg-text-color, var(--theme-code-foreground, var(--jp-content-font-color1, white)));\n",
       "    --sklearn-color-background: var(--sg-background-color, var(--theme-background, var(--jp-layout-color0, #111)));\n",
       "    --sklearn-color-border-box: var(--sg-text-color, var(--theme-code-foreground, var(--jp-content-font-color1, white)));\n",
       "    --sklearn-color-icon: #878787;\n",
       "  }\n",
       "}\n",
       "\n",
       "#sk-container-id-1 {\n",
       "  color: var(--sklearn-color-text);\n",
       "}\n",
       "\n",
       "#sk-container-id-1 pre {\n",
       "  padding: 0;\n",
       "}\n",
       "\n",
       "#sk-container-id-1 input.sk-hidden--visually {\n",
       "  border: 0;\n",
       "  clip: rect(1px 1px 1px 1px);\n",
       "  clip: rect(1px, 1px, 1px, 1px);\n",
       "  height: 1px;\n",
       "  margin: -1px;\n",
       "  overflow: hidden;\n",
       "  padding: 0;\n",
       "  position: absolute;\n",
       "  width: 1px;\n",
       "}\n",
       "\n",
       "#sk-container-id-1 div.sk-dashed-wrapped {\n",
       "  border: 1px dashed var(--sklearn-color-line);\n",
       "  margin: 0 0.4em 0.5em 0.4em;\n",
       "  box-sizing: border-box;\n",
       "  padding-bottom: 0.4em;\n",
       "  background-color: var(--sklearn-color-background);\n",
       "}\n",
       "\n",
       "#sk-container-id-1 div.sk-container {\n",
       "  /* jupyter's `normalize.less` sets `[hidden] { display: none; }`\n",
       "     but bootstrap.min.css set `[hidden] { display: none !important; }`\n",
       "     so we also need the `!important` here to be able to override the\n",
       "     default hidden behavior on the sphinx rendered scikit-learn.org.\n",
       "     See: https://github.com/scikit-learn/scikit-learn/issues/21755 */\n",
       "  display: inline-block !important;\n",
       "  position: relative;\n",
       "}\n",
       "\n",
       "#sk-container-id-1 div.sk-text-repr-fallback {\n",
       "  display: none;\n",
       "}\n",
       "\n",
       "div.sk-parallel-item,\n",
       "div.sk-serial,\n",
       "div.sk-item {\n",
       "  /* draw centered vertical line to link estimators */\n",
       "  background-image: linear-gradient(var(--sklearn-color-text-on-default-background), var(--sklearn-color-text-on-default-background));\n",
       "  background-size: 2px 100%;\n",
       "  background-repeat: no-repeat;\n",
       "  background-position: center center;\n",
       "}\n",
       "\n",
       "/* Parallel-specific style estimator block */\n",
       "\n",
       "#sk-container-id-1 div.sk-parallel-item::after {\n",
       "  content: \"\";\n",
       "  width: 100%;\n",
       "  border-bottom: 2px solid var(--sklearn-color-text-on-default-background);\n",
       "  flex-grow: 1;\n",
       "}\n",
       "\n",
       "#sk-container-id-1 div.sk-parallel {\n",
       "  display: flex;\n",
       "  align-items: stretch;\n",
       "  justify-content: center;\n",
       "  background-color: var(--sklearn-color-background);\n",
       "  position: relative;\n",
       "}\n",
       "\n",
       "#sk-container-id-1 div.sk-parallel-item {\n",
       "  display: flex;\n",
       "  flex-direction: column;\n",
       "}\n",
       "\n",
       "#sk-container-id-1 div.sk-parallel-item:first-child::after {\n",
       "  align-self: flex-end;\n",
       "  width: 50%;\n",
       "}\n",
       "\n",
       "#sk-container-id-1 div.sk-parallel-item:last-child::after {\n",
       "  align-self: flex-start;\n",
       "  width: 50%;\n",
       "}\n",
       "\n",
       "#sk-container-id-1 div.sk-parallel-item:only-child::after {\n",
       "  width: 0;\n",
       "}\n",
       "\n",
       "/* Serial-specific style estimator block */\n",
       "\n",
       "#sk-container-id-1 div.sk-serial {\n",
       "  display: flex;\n",
       "  flex-direction: column;\n",
       "  align-items: center;\n",
       "  background-color: var(--sklearn-color-background);\n",
       "  padding-right: 1em;\n",
       "  padding-left: 1em;\n",
       "}\n",
       "\n",
       "\n",
       "/* Toggleable style: style used for estimator/Pipeline/ColumnTransformer box that is\n",
       "clickable and can be expanded/collapsed.\n",
       "- Pipeline and ColumnTransformer use this feature and define the default style\n",
       "- Estimators will overwrite some part of the style using the `sk-estimator` class\n",
       "*/\n",
       "\n",
       "/* Pipeline and ColumnTransformer style (default) */\n",
       "\n",
       "#sk-container-id-1 div.sk-toggleable {\n",
       "  /* Default theme specific background. It is overwritten whether we have a\n",
       "  specific estimator or a Pipeline/ColumnTransformer */\n",
       "  background-color: var(--sklearn-color-background);\n",
       "}\n",
       "\n",
       "/* Toggleable label */\n",
       "#sk-container-id-1 label.sk-toggleable__label {\n",
       "  cursor: pointer;\n",
       "  display: flex;\n",
       "  width: 100%;\n",
       "  margin-bottom: 0;\n",
       "  padding: 0.5em;\n",
       "  box-sizing: border-box;\n",
       "  text-align: center;\n",
       "  align-items: start;\n",
       "  justify-content: space-between;\n",
       "  gap: 0.5em;\n",
       "}\n",
       "\n",
       "#sk-container-id-1 label.sk-toggleable__label .caption {\n",
       "  font-size: 0.6rem;\n",
       "  font-weight: lighter;\n",
       "  color: var(--sklearn-color-text-muted);\n",
       "}\n",
       "\n",
       "#sk-container-id-1 label.sk-toggleable__label-arrow:before {\n",
       "  /* Arrow on the left of the label */\n",
       "  content: \"▸\";\n",
       "  float: left;\n",
       "  margin-right: 0.25em;\n",
       "  color: var(--sklearn-color-icon);\n",
       "}\n",
       "\n",
       "#sk-container-id-1 label.sk-toggleable__label-arrow:hover:before {\n",
       "  color: var(--sklearn-color-text);\n",
       "}\n",
       "\n",
       "/* Toggleable content - dropdown */\n",
       "\n",
       "#sk-container-id-1 div.sk-toggleable__content {\n",
       "  display: none;\n",
       "  text-align: left;\n",
       "  /* unfitted */\n",
       "  background-color: var(--sklearn-color-unfitted-level-0);\n",
       "}\n",
       "\n",
       "#sk-container-id-1 div.sk-toggleable__content.fitted {\n",
       "  /* fitted */\n",
       "  background-color: var(--sklearn-color-fitted-level-0);\n",
       "}\n",
       "\n",
       "#sk-container-id-1 div.sk-toggleable__content pre {\n",
       "  margin: 0.2em;\n",
       "  border-radius: 0.25em;\n",
       "  color: var(--sklearn-color-text);\n",
       "  /* unfitted */\n",
       "  background-color: var(--sklearn-color-unfitted-level-0);\n",
       "}\n",
       "\n",
       "#sk-container-id-1 div.sk-toggleable__content.fitted pre {\n",
       "  /* unfitted */\n",
       "  background-color: var(--sklearn-color-fitted-level-0);\n",
       "}\n",
       "\n",
       "#sk-container-id-1 input.sk-toggleable__control:checked~div.sk-toggleable__content {\n",
       "  /* Expand drop-down */\n",
       "  display: block;\n",
       "  width: 100%;\n",
       "  overflow: visible;\n",
       "}\n",
       "\n",
       "#sk-container-id-1 input.sk-toggleable__control:checked~label.sk-toggleable__label-arrow:before {\n",
       "  content: \"▾\";\n",
       "}\n",
       "\n",
       "/* Pipeline/ColumnTransformer-specific style */\n",
       "\n",
       "#sk-container-id-1 div.sk-label input.sk-toggleable__control:checked~label.sk-toggleable__label {\n",
       "  color: var(--sklearn-color-text);\n",
       "  background-color: var(--sklearn-color-unfitted-level-2);\n",
       "}\n",
       "\n",
       "#sk-container-id-1 div.sk-label.fitted input.sk-toggleable__control:checked~label.sk-toggleable__label {\n",
       "  background-color: var(--sklearn-color-fitted-level-2);\n",
       "}\n",
       "\n",
       "/* Estimator-specific style */\n",
       "\n",
       "/* Colorize estimator box */\n",
       "#sk-container-id-1 div.sk-estimator input.sk-toggleable__control:checked~label.sk-toggleable__label {\n",
       "  /* unfitted */\n",
       "  background-color: var(--sklearn-color-unfitted-level-2);\n",
       "}\n",
       "\n",
       "#sk-container-id-1 div.sk-estimator.fitted input.sk-toggleable__control:checked~label.sk-toggleable__label {\n",
       "  /* fitted */\n",
       "  background-color: var(--sklearn-color-fitted-level-2);\n",
       "}\n",
       "\n",
       "#sk-container-id-1 div.sk-label label.sk-toggleable__label,\n",
       "#sk-container-id-1 div.sk-label label {\n",
       "  /* The background is the default theme color */\n",
       "  color: var(--sklearn-color-text-on-default-background);\n",
       "}\n",
       "\n",
       "/* On hover, darken the color of the background */\n",
       "#sk-container-id-1 div.sk-label:hover label.sk-toggleable__label {\n",
       "  color: var(--sklearn-color-text);\n",
       "  background-color: var(--sklearn-color-unfitted-level-2);\n",
       "}\n",
       "\n",
       "/* Label box, darken color on hover, fitted */\n",
       "#sk-container-id-1 div.sk-label.fitted:hover label.sk-toggleable__label.fitted {\n",
       "  color: var(--sklearn-color-text);\n",
       "  background-color: var(--sklearn-color-fitted-level-2);\n",
       "}\n",
       "\n",
       "/* Estimator label */\n",
       "\n",
       "#sk-container-id-1 div.sk-label label {\n",
       "  font-family: monospace;\n",
       "  font-weight: bold;\n",
       "  display: inline-block;\n",
       "  line-height: 1.2em;\n",
       "}\n",
       "\n",
       "#sk-container-id-1 div.sk-label-container {\n",
       "  text-align: center;\n",
       "}\n",
       "\n",
       "/* Estimator-specific */\n",
       "#sk-container-id-1 div.sk-estimator {\n",
       "  font-family: monospace;\n",
       "  border: 1px dotted var(--sklearn-color-border-box);\n",
       "  border-radius: 0.25em;\n",
       "  box-sizing: border-box;\n",
       "  margin-bottom: 0.5em;\n",
       "  /* unfitted */\n",
       "  background-color: var(--sklearn-color-unfitted-level-0);\n",
       "}\n",
       "\n",
       "#sk-container-id-1 div.sk-estimator.fitted {\n",
       "  /* fitted */\n",
       "  background-color: var(--sklearn-color-fitted-level-0);\n",
       "}\n",
       "\n",
       "/* on hover */\n",
       "#sk-container-id-1 div.sk-estimator:hover {\n",
       "  /* unfitted */\n",
       "  background-color: var(--sklearn-color-unfitted-level-2);\n",
       "}\n",
       "\n",
       "#sk-container-id-1 div.sk-estimator.fitted:hover {\n",
       "  /* fitted */\n",
       "  background-color: var(--sklearn-color-fitted-level-2);\n",
       "}\n",
       "\n",
       "/* Specification for estimator info (e.g. \"i\" and \"?\") */\n",
       "\n",
       "/* Common style for \"i\" and \"?\" */\n",
       "\n",
       ".sk-estimator-doc-link,\n",
       "a:link.sk-estimator-doc-link,\n",
       "a:visited.sk-estimator-doc-link {\n",
       "  float: right;\n",
       "  font-size: smaller;\n",
       "  line-height: 1em;\n",
       "  font-family: monospace;\n",
       "  background-color: var(--sklearn-color-background);\n",
       "  border-radius: 1em;\n",
       "  height: 1em;\n",
       "  width: 1em;\n",
       "  text-decoration: none !important;\n",
       "  margin-left: 0.5em;\n",
       "  text-align: center;\n",
       "  /* unfitted */\n",
       "  border: var(--sklearn-color-unfitted-level-1) 1pt solid;\n",
       "  color: var(--sklearn-color-unfitted-level-1);\n",
       "}\n",
       "\n",
       ".sk-estimator-doc-link.fitted,\n",
       "a:link.sk-estimator-doc-link.fitted,\n",
       "a:visited.sk-estimator-doc-link.fitted {\n",
       "  /* fitted */\n",
       "  border: var(--sklearn-color-fitted-level-1) 1pt solid;\n",
       "  color: var(--sklearn-color-fitted-level-1);\n",
       "}\n",
       "\n",
       "/* On hover */\n",
       "div.sk-estimator:hover .sk-estimator-doc-link:hover,\n",
       ".sk-estimator-doc-link:hover,\n",
       "div.sk-label-container:hover .sk-estimator-doc-link:hover,\n",
       ".sk-estimator-doc-link:hover {\n",
       "  /* unfitted */\n",
       "  background-color: var(--sklearn-color-unfitted-level-3);\n",
       "  color: var(--sklearn-color-background);\n",
       "  text-decoration: none;\n",
       "}\n",
       "\n",
       "div.sk-estimator.fitted:hover .sk-estimator-doc-link.fitted:hover,\n",
       ".sk-estimator-doc-link.fitted:hover,\n",
       "div.sk-label-container:hover .sk-estimator-doc-link.fitted:hover,\n",
       ".sk-estimator-doc-link.fitted:hover {\n",
       "  /* fitted */\n",
       "  background-color: var(--sklearn-color-fitted-level-3);\n",
       "  color: var(--sklearn-color-background);\n",
       "  text-decoration: none;\n",
       "}\n",
       "\n",
       "/* Span, style for the box shown on hovering the info icon */\n",
       ".sk-estimator-doc-link span {\n",
       "  display: none;\n",
       "  z-index: 9999;\n",
       "  position: relative;\n",
       "  font-weight: normal;\n",
       "  right: .2ex;\n",
       "  padding: .5ex;\n",
       "  margin: .5ex;\n",
       "  width: min-content;\n",
       "  min-width: 20ex;\n",
       "  max-width: 50ex;\n",
       "  color: var(--sklearn-color-text);\n",
       "  box-shadow: 2pt 2pt 4pt #999;\n",
       "  /* unfitted */\n",
       "  background: var(--sklearn-color-unfitted-level-0);\n",
       "  border: .5pt solid var(--sklearn-color-unfitted-level-3);\n",
       "}\n",
       "\n",
       ".sk-estimator-doc-link.fitted span {\n",
       "  /* fitted */\n",
       "  background: var(--sklearn-color-fitted-level-0);\n",
       "  border: var(--sklearn-color-fitted-level-3);\n",
       "}\n",
       "\n",
       ".sk-estimator-doc-link:hover span {\n",
       "  display: block;\n",
       "}\n",
       "\n",
       "/* \"?\"-specific style due to the `<a>` HTML tag */\n",
       "\n",
       "#sk-container-id-1 a.estimator_doc_link {\n",
       "  float: right;\n",
       "  font-size: 1rem;\n",
       "  line-height: 1em;\n",
       "  font-family: monospace;\n",
       "  background-color: var(--sklearn-color-background);\n",
       "  border-radius: 1rem;\n",
       "  height: 1rem;\n",
       "  width: 1rem;\n",
       "  text-decoration: none;\n",
       "  /* unfitted */\n",
       "  color: var(--sklearn-color-unfitted-level-1);\n",
       "  border: var(--sklearn-color-unfitted-level-1) 1pt solid;\n",
       "}\n",
       "\n",
       "#sk-container-id-1 a.estimator_doc_link.fitted {\n",
       "  /* fitted */\n",
       "  border: var(--sklearn-color-fitted-level-1) 1pt solid;\n",
       "  color: var(--sklearn-color-fitted-level-1);\n",
       "}\n",
       "\n",
       "/* On hover */\n",
       "#sk-container-id-1 a.estimator_doc_link:hover {\n",
       "  /* unfitted */\n",
       "  background-color: var(--sklearn-color-unfitted-level-3);\n",
       "  color: var(--sklearn-color-background);\n",
       "  text-decoration: none;\n",
       "}\n",
       "\n",
       "#sk-container-id-1 a.estimator_doc_link.fitted:hover {\n",
       "  /* fitted */\n",
       "  background-color: var(--sklearn-color-fitted-level-3);\n",
       "}\n",
       "\n",
       ".estimator-table summary {\n",
       "    padding: .5rem;\n",
       "    font-family: monospace;\n",
       "    cursor: pointer;\n",
       "}\n",
       "\n",
       ".estimator-table details[open] {\n",
       "    padding-left: 0.1rem;\n",
       "    padding-right: 0.1rem;\n",
       "    padding-bottom: 0.3rem;\n",
       "}\n",
       "\n",
       ".estimator-table .parameters-table {\n",
       "    margin-left: auto !important;\n",
       "    margin-right: auto !important;\n",
       "}\n",
       "\n",
       ".estimator-table .parameters-table tr:nth-child(odd) {\n",
       "    background-color: #fff;\n",
       "}\n",
       "\n",
       ".estimator-table .parameters-table tr:nth-child(even) {\n",
       "    background-color: #f6f6f6;\n",
       "}\n",
       "\n",
       ".estimator-table .parameters-table tr:hover {\n",
       "    background-color: #e0e0e0;\n",
       "}\n",
       "\n",
       ".estimator-table table td {\n",
       "    border: 1px solid rgba(106, 105, 104, 0.232);\n",
       "}\n",
       "\n",
       ".user-set td {\n",
       "    color:rgb(255, 94, 0);\n",
       "    text-align: left;\n",
       "}\n",
       "\n",
       ".user-set td.value pre {\n",
       "    color:rgb(255, 94, 0) !important;\n",
       "    background-color: transparent !important;\n",
       "}\n",
       "\n",
       ".default td {\n",
       "    color: black;\n",
       "    text-align: left;\n",
       "}\n",
       "\n",
       ".user-set td i,\n",
       ".default td i {\n",
       "    color: black;\n",
       "}\n",
       "\n",
       ".copy-paste-icon {\n",
       "    background-image: url(data:image/svg+xml;base64,PHN2ZyB4bWxucz0iaHR0cDovL3d3dy53My5vcmcvMjAwMC9zdmciIHZpZXdCb3g9IjAgMCA0NDggNTEyIj48IS0tIUZvbnQgQXdlc29tZSBGcmVlIDYuNy4yIGJ5IEBmb250YXdlc29tZSAtIGh0dHBzOi8vZm9udGF3ZXNvbWUuY29tIExpY2Vuc2UgLSBodHRwczovL2ZvbnRhd2Vzb21lLmNvbS9saWNlbnNlL2ZyZWUgQ29weXJpZ2h0IDIwMjUgRm9udGljb25zLCBJbmMuLS0+PHBhdGggZD0iTTIwOCAwTDMzMi4xIDBjMTIuNyAwIDI0LjkgNS4xIDMzLjkgMTQuMWw2Ny45IDY3LjljOSA5IDE0LjEgMjEuMiAxNC4xIDMzLjlMNDQ4IDMzNmMwIDI2LjUtMjEuNSA0OC00OCA0OGwtMTkyIDBjLTI2LjUgMC00OC0yMS41LTQ4LTQ4bDAtMjg4YzAtMjYuNSAyMS41LTQ4IDQ4LTQ4ek00OCAxMjhsODAgMCAwIDY0LTY0IDAgMCAyNTYgMTkyIDAgMC0zMiA2NCAwIDAgNDhjMCAyNi41LTIxLjUgNDgtNDggNDhMNDggNTEyYy0yNi41IDAtNDgtMjEuNS00OC00OEwwIDE3NmMwLTI2LjUgMjEuNS00OCA0OC00OHoiLz48L3N2Zz4=);\n",
       "    background-repeat: no-repeat;\n",
       "    background-size: 14px 14px;\n",
       "    background-position: 0;\n",
       "    display: inline-block;\n",
       "    width: 14px;\n",
       "    height: 14px;\n",
       "    cursor: pointer;\n",
       "}\n",
       "</style><body><div id=\"sk-container-id-1\" class=\"sk-top-container\"><div class=\"sk-text-repr-fallback\"><pre>LinearRegression()</pre><b>In a Jupyter environment, please rerun this cell to show the HTML representation or trust the notebook. <br />On GitHub, the HTML representation is unable to render, please try loading this page with nbviewer.org.</b></div><div class=\"sk-container\" hidden><div class=\"sk-item\"><div class=\"sk-estimator fitted sk-toggleable\"><input class=\"sk-toggleable__control sk-hidden--visually\" id=\"sk-estimator-id-1\" type=\"checkbox\" checked><label for=\"sk-estimator-id-1\" class=\"sk-toggleable__label fitted sk-toggleable__label-arrow\"><div><div>LinearRegression</div></div><div><a class=\"sk-estimator-doc-link fitted\" rel=\"noreferrer\" target=\"_blank\" href=\"https://scikit-learn.org/1.7/modules/generated/sklearn.linear_model.LinearRegression.html\">?<span>Documentation for LinearRegression</span></a><span class=\"sk-estimator-doc-link fitted\">i<span>Fitted</span></span></div></label><div class=\"sk-toggleable__content fitted\" data-param-prefix=\"\">\n",
       "        <div class=\"estimator-table\">\n",
       "            <details>\n",
       "                <summary>Parameters</summary>\n",
       "                <table class=\"parameters-table\">\n",
       "                  <tbody>\n",
       "                    \n",
       "        <tr class=\"default\">\n",
       "            <td><i class=\"copy-paste-icon\"\n",
       "                 onclick=\"copyToClipboard('fit_intercept',\n",
       "                          this.parentElement.nextElementSibling)\"\n",
       "            ></i></td>\n",
       "            <td class=\"param\">fit_intercept&nbsp;</td>\n",
       "            <td class=\"value\">True</td>\n",
       "        </tr>\n",
       "    \n",
       "\n",
       "        <tr class=\"default\">\n",
       "            <td><i class=\"copy-paste-icon\"\n",
       "                 onclick=\"copyToClipboard('copy_X',\n",
       "                          this.parentElement.nextElementSibling)\"\n",
       "            ></i></td>\n",
       "            <td class=\"param\">copy_X&nbsp;</td>\n",
       "            <td class=\"value\">True</td>\n",
       "        </tr>\n",
       "    \n",
       "\n",
       "        <tr class=\"default\">\n",
       "            <td><i class=\"copy-paste-icon\"\n",
       "                 onclick=\"copyToClipboard('tol',\n",
       "                          this.parentElement.nextElementSibling)\"\n",
       "            ></i></td>\n",
       "            <td class=\"param\">tol&nbsp;</td>\n",
       "            <td class=\"value\">1e-06</td>\n",
       "        </tr>\n",
       "    \n",
       "\n",
       "        <tr class=\"default\">\n",
       "            <td><i class=\"copy-paste-icon\"\n",
       "                 onclick=\"copyToClipboard('n_jobs',\n",
       "                          this.parentElement.nextElementSibling)\"\n",
       "            ></i></td>\n",
       "            <td class=\"param\">n_jobs&nbsp;</td>\n",
       "            <td class=\"value\">None</td>\n",
       "        </tr>\n",
       "    \n",
       "\n",
       "        <tr class=\"default\">\n",
       "            <td><i class=\"copy-paste-icon\"\n",
       "                 onclick=\"copyToClipboard('positive',\n",
       "                          this.parentElement.nextElementSibling)\"\n",
       "            ></i></td>\n",
       "            <td class=\"param\">positive&nbsp;</td>\n",
       "            <td class=\"value\">False</td>\n",
       "        </tr>\n",
       "    \n",
       "                  </tbody>\n",
       "                </table>\n",
       "            </details>\n",
       "        </div>\n",
       "    </div></div></div></div></div><script>function copyToClipboard(text, element) {\n",
       "    // Get the parameter prefix from the closest toggleable content\n",
       "    const toggleableContent = element.closest('.sk-toggleable__content');\n",
       "    const paramPrefix = toggleableContent ? toggleableContent.dataset.paramPrefix : '';\n",
       "    const fullParamName = paramPrefix ? `${paramPrefix}${text}` : text;\n",
       "\n",
       "    const originalStyle = element.style;\n",
       "    const computedStyle = window.getComputedStyle(element);\n",
       "    const originalWidth = computedStyle.width;\n",
       "    const originalHTML = element.innerHTML.replace('Copied!', '');\n",
       "\n",
       "    navigator.clipboard.writeText(fullParamName)\n",
       "        .then(() => {\n",
       "            element.style.width = originalWidth;\n",
       "            element.style.color = 'green';\n",
       "            element.innerHTML = \"Copied!\";\n",
       "\n",
       "            setTimeout(() => {\n",
       "                element.innerHTML = originalHTML;\n",
       "                element.style = originalStyle;\n",
       "            }, 2000);\n",
       "        })\n",
       "        .catch(err => {\n",
       "            console.error('Failed to copy:', err);\n",
       "            element.style.color = 'red';\n",
       "            element.innerHTML = \"Failed!\";\n",
       "            setTimeout(() => {\n",
       "                element.innerHTML = originalHTML;\n",
       "                element.style = originalStyle;\n",
       "            }, 2000);\n",
       "        });\n",
       "    return false;\n",
       "}\n",
       "\n",
       "document.querySelectorAll('.fa-regular.fa-copy').forEach(function(element) {\n",
       "    const toggleableContent = element.closest('.sk-toggleable__content');\n",
       "    const paramPrefix = toggleableContent ? toggleableContent.dataset.paramPrefix : '';\n",
       "    const paramName = element.parentElement.nextElementSibling.textContent.trim();\n",
       "    const fullParamName = paramPrefix ? `${paramPrefix}${paramName}` : paramName;\n",
       "\n",
       "    element.setAttribute('title', fullParamName);\n",
       "});\n",
       "</script></body>"
      ],
      "text/plain": [
       "LinearRegression()"
      ]
     },
     "execution_count": 28,
     "metadata": {},
     "output_type": "execute_result"
    }
   ],
   "source": [
    "# Fit the regression object onto training set\n",
    "\n",
    "regression.fit(X_train, y_train)"
   ]
  },
  {
   "cell_type": "code",
   "execution_count": 29,
   "id": "ada14de8-5c04-429d-9fad-7e80dbf190d4",
   "metadata": {},
   "outputs": [],
   "source": [
    "# Predict the values of y using X\n",
    "\n",
    "y_predicted = regression.predict(X_test)"
   ]
  },
  {
   "cell_type": "code",
   "execution_count": 30,
   "id": "9459e197-4c89-489f-88aa-b911bed168ba",
   "metadata": {},
   "outputs": [
    {
     "data": {
      "image/png": "[encoded data removed]",
      "text/plain": [
       "<Figure size 640x480 with 1 Axes>"
      ]
     },
     "metadata": {},
     "output_type": "display_data"
    }
   ],
   "source": [
    "# Create plot to show the regression line from the model on the test set\n",
    "\n",
    "plot_test = plt\n",
    "plot_test.scatter(X_test, y_test, color='gray', s = 15)\n",
    "plot_test.plot(X_test, y_predicted, color='red', linewidth =3)\n",
    "plot_test.title('Accident counts (daily) vs Humidity (Test set)', fontsize=12, fontweight='bold')\n",
    "plot_test.xlabel('Humidity (%)')\n",
    "plot_test.ylabel('Accident Count (Aggregated by Day)')\n",
    "plot_test.show()"
   ]
  },
  {
   "cell_type": "markdown",
   "id": "463a9fbb-a8dd-4f70-a57b-66a9ef9e315b",
   "metadata": {},
   "source": [
    "> **Interpretation:**\n",
    "> * **Poor Fit:** The flat trend line indicates a very weak relationship between humidity and accident counts.\n",
    "> * **High Variability:** Data points are widely scattered, showing accident counts vary greatly at similar humidity levels.\n",
    "> * **No Clear Pattern:** No consistent increase or decrease in accidents with changing humidity.\n",
    "> * **Limited Predictive Power:** Humidity alone is not a meaningful predictor of daily accident frequency."
   ]
  },
  {
   "cell_type": "code",
   "execution_count": 31,
   "id": "b0631f51-8e5a-44b3-bc53-36295e30d8ed",
   "metadata": {},
   "outputs": [],
   "source": [
    "# Create objects containing the model summary statistics.\n",
    "\n",
    "rmse = mean_squared_error(y_test, y_predicted)   # Mean Squared Error\n",
    "r2 = r2_score(y_test, y_predicted)               # R2 score. "
   ]
  },
  {
   "cell_type": "code",
   "execution_count": 32,
   "id": "dde4165b-d29f-4671-b03e-5179e30b3a15",
   "metadata": {},
   "outputs": [
    {
     "name": "stdout",
     "output_type": "stream",
     "text": [
      "Slope: [[13.008582]]\n",
      "Mean Squared Error:  3498237.5\n",
      "R2 score:  0.0045011043548583984\n"
     ]
    }
   ],
   "source": [
    "# Display model summary statistics\n",
    "\n",
    "print('Slope:' ,regression.coef_)\n",
    "print('Mean Squared Error: ', rmse)\n",
    "print('R2 score: ', r2)"
   ]
  },
  {
   "cell_type": "markdown",
   "id": "e5165b2d-7e85-41b0-95b6-87f1ad94474b",
   "metadata": {},
   "source": [
    "> **Slope (coefficient): Indicates how y changes with X: 13.01**\n",
    ">  This means that for every 1% increase in humidity, the model predicts roughly 13 additional accidents on average. The positive slope aligns with hypothesis that accident counts rise with increasing humidity.\n",
    "\n",
    "> **MSE (Mean Squared Error: 3,498,237.5): Measures how far the predicted values are from actual values.** AA large value indicates that the model’s predictions are often far from the actual counts. Given the scale of accident counts (likely in thousands), the error is high, suggesting the model doesn’t fit the data well.\n",
    "\n",
    "> **R² (R-squared: 0.0045 ≈ 0.45%): Shows how much variance in y is explained by the model.** This indicates that humidity explains only 0.45% of the variation in accident counts. Essentially, humidity alone has almost no predictive power for accident counts in your dataset."
   ]
  },
  {
   "cell_type": "code",
   "execution_count": 33,
   "id": "47e912f8-ba3c-41cf-8d38-d3469e27ea09",
   "metadata": {
    "scrolled": true
   },
   "outputs": [
    {
     "data": {
      "text/html": [
       "<div>\n",
       "<style scoped>\n",
       "    .dataframe tbody tr th:only-of-type {\n",
       "        vertical-align: middle;\n",
       "    }\n",
       "\n",
       "    .dataframe tbody tr th {\n",
       "        vertical-align: top;\n",
       "    }\n",
       "\n",
       "    .dataframe thead th {\n",
       "        text-align: right;\n",
       "    }\n",
       "</style>\n",
       "<table border=\"1\" class=\"dataframe\">\n",
       "  <thead>\n",
       "    <tr style=\"text-align: right;\">\n",
       "      <th></th>\n",
       "      <th>Actual</th>\n",
       "      <th>Predicted</th>\n",
       "    </tr>\n",
       "  </thead>\n",
       "  <tbody>\n",
       "    <tr>\n",
       "      <th>0</th>\n",
       "      <td>678</td>\n",
       "      <td>2921.117188</td>\n",
       "    </tr>\n",
       "    <tr>\n",
       "      <th>1</th>\n",
       "      <td>6439</td>\n",
       "      <td>2882.944092</td>\n",
       "    </tr>\n",
       "    <tr>\n",
       "      <th>2</th>\n",
       "      <td>4188</td>\n",
       "      <td>2936.561768</td>\n",
       "    </tr>\n",
       "    <tr>\n",
       "      <th>3</th>\n",
       "      <td>3293</td>\n",
       "      <td>2923.414062</td>\n",
       "    </tr>\n",
       "    <tr>\n",
       "      <th>4</th>\n",
       "      <td>784</td>\n",
       "      <td>2966.111328</td>\n",
       "    </tr>\n",
       "    <tr>\n",
       "      <th>5</th>\n",
       "      <td>1904</td>\n",
       "      <td>2992.492432</td>\n",
       "    </tr>\n",
       "    <tr>\n",
       "      <th>6</th>\n",
       "      <td>1559</td>\n",
       "      <td>3189.451172</td>\n",
       "    </tr>\n",
       "    <tr>\n",
       "      <th>7</th>\n",
       "      <td>3145</td>\n",
       "      <td>2903.703125</td>\n",
       "    </tr>\n",
       "    <tr>\n",
       "      <th>8</th>\n",
       "      <td>6046</td>\n",
       "      <td>2992.018066</td>\n",
       "    </tr>\n",
       "    <tr>\n",
       "      <th>9</th>\n",
       "      <td>712</td>\n",
       "      <td>2918.948730</td>\n",
       "    </tr>\n",
       "    <tr>\n",
       "      <th>10</th>\n",
       "      <td>3594</td>\n",
       "      <td>3023.104248</td>\n",
       "    </tr>\n",
       "    <tr>\n",
       "      <th>11</th>\n",
       "      <td>1097</td>\n",
       "      <td>2923.078125</td>\n",
       "    </tr>\n",
       "    <tr>\n",
       "      <th>12</th>\n",
       "      <td>849</td>\n",
       "      <td>3168.115723</td>\n",
       "    </tr>\n",
       "    <tr>\n",
       "      <th>13</th>\n",
       "      <td>1331</td>\n",
       "      <td>3136.338867</td>\n",
       "    </tr>\n",
       "    <tr>\n",
       "      <th>14</th>\n",
       "      <td>3422</td>\n",
       "      <td>3082.420410</td>\n",
       "    </tr>\n",
       "    <tr>\n",
       "      <th>15</th>\n",
       "      <td>3379</td>\n",
       "      <td>2840.368652</td>\n",
       "    </tr>\n",
       "    <tr>\n",
       "      <th>16</th>\n",
       "      <td>7263</td>\n",
       "      <td>3010.277344</td>\n",
       "    </tr>\n",
       "    <tr>\n",
       "      <th>17</th>\n",
       "      <td>3730</td>\n",
       "      <td>3012.937988</td>\n",
       "    </tr>\n",
       "    <tr>\n",
       "      <th>18</th>\n",
       "      <td>956</td>\n",
       "      <td>3008.743652</td>\n",
       "    </tr>\n",
       "    <tr>\n",
       "      <th>19</th>\n",
       "      <td>2559</td>\n",
       "      <td>3025.567383</td>\n",
       "    </tr>\n",
       "    <tr>\n",
       "      <th>20</th>\n",
       "      <td>654</td>\n",
       "      <td>2930.297363</td>\n",
       "    </tr>\n",
       "    <tr>\n",
       "      <th>21</th>\n",
       "      <td>5902</td>\n",
       "      <td>2831.546631</td>\n",
       "    </tr>\n",
       "    <tr>\n",
       "      <th>22</th>\n",
       "      <td>3850</td>\n",
       "      <td>3145.325928</td>\n",
       "    </tr>\n",
       "    <tr>\n",
       "      <th>23</th>\n",
       "      <td>3268</td>\n",
       "      <td>2895.694336</td>\n",
       "    </tr>\n",
       "    <tr>\n",
       "      <th>24</th>\n",
       "      <td>2798</td>\n",
       "      <td>2837.384033</td>\n",
       "    </tr>\n",
       "    <tr>\n",
       "      <th>25</th>\n",
       "      <td>61</td>\n",
       "      <td>3134.550781</td>\n",
       "    </tr>\n",
       "    <tr>\n",
       "      <th>26</th>\n",
       "      <td>1351</td>\n",
       "      <td>3013.896484</td>\n",
       "    </tr>\n",
       "    <tr>\n",
       "      <th>27</th>\n",
       "      <td>3036</td>\n",
       "      <td>3113.153076</td>\n",
       "    </tr>\n",
       "    <tr>\n",
       "      <th>28</th>\n",
       "      <td>2318</td>\n",
       "      <td>2995.468994</td>\n",
       "    </tr>\n",
       "    <tr>\n",
       "      <th>29</th>\n",
       "      <td>6357</td>\n",
       "      <td>3093.958984</td>\n",
       "    </tr>\n",
       "  </tbody>\n",
       "</table>\n",
       "</div>"
      ],
      "text/plain": [
       "    Actual    Predicted\n",
       "0      678  2921.117188\n",
       "1     6439  2882.944092\n",
       "2     4188  2936.561768\n",
       "3     3293  2923.414062\n",
       "4      784  2966.111328\n",
       "5     1904  2992.492432\n",
       "6     1559  3189.451172\n",
       "7     3145  2903.703125\n",
       "8     6046  2992.018066\n",
       "9      712  2918.948730\n",
       "10    3594  3023.104248\n",
       "11    1097  2923.078125\n",
       "12     849  3168.115723\n",
       "13    1331  3136.338867\n",
       "14    3422  3082.420410\n",
       "15    3379  2840.368652\n",
       "16    7263  3010.277344\n",
       "17    3730  3012.937988\n",
       "18     956  3008.743652\n",
       "19    2559  3025.567383\n",
       "20     654  2930.297363\n",
       "21    5902  2831.546631\n",
       "22    3850  3145.325928\n",
       "23    3268  2895.694336\n",
       "24    2798  2837.384033\n",
       "25      61  3134.550781\n",
       "26    1351  3013.896484\n",
       "27    3036  3113.153076\n",
       "28    2318  2995.468994\n",
       "29    6357  3093.958984"
      ]
     },
     "execution_count": 33,
     "metadata": {},
     "output_type": "execute_result"
    }
   ],
   "source": [
    "# Dataframe comparing the actual and predicted values of y.\n",
    "\n",
    "data = pd.DataFrame({'Actual': y_test.flatten(), 'Predicted': y_predicted.flatten()})\n",
    "data.head(30)"
   ]
  },
  {
   "cell_type": "markdown",
   "id": "5466da0f-8323-4b0f-ac80-154df767c577",
   "metadata": {},
   "source": [
    "**Comparing how the Regression fits Training Set**"
   ]
  },
  {
   "cell_type": "code",
   "execution_count": 34,
   "id": "9507c22c-3d1e-40f4-bd2d-f9e59e0a28e4",
   "metadata": {},
   "outputs": [],
   "source": [
    "# Predict.\n",
    "\n",
    "y_predicted_train = regression.predict(X_train) # This is predicting X_train!"
   ]
  },
  {
   "cell_type": "code",
   "execution_count": 35,
   "id": "3d1a8bb3-a721-4434-ad12-cbdb8fd6f6fc",
   "metadata": {},
   "outputs": [],
   "source": [
    "rmse2 = mean_squared_error(y_train, y_predicted_train)\n",
    "r2 = r2_score(y_train, y_predicted_train)"
   ]
  },
  {
   "cell_type": "code",
   "execution_count": 36,
   "id": "2e58827d-c5d9-402c-bea1-8bc7d20b187b",
   "metadata": {},
   "outputs": [
    {
     "name": "stdout",
     "output_type": "stream",
     "text": [
      "Slope: [[13.008582]]\n",
      "Mean Squared Error:  3433177.25\n",
      "R2 score:  0.0028830766677856445\n"
     ]
    }
   ],
   "source": [
    "print('Slope:' ,regression.coef_)\n",
    "print('Mean Squared Error: ', rmse2)\n",
    "print('R2 score: ', r2)"
   ]
  },
  {
   "cell_type": "code",
   "execution_count": 37,
   "id": "698f23c3-8ec3-4598-a141-70fac432e099",
   "metadata": {},
   "outputs": [
    {
     "data": {
      "image/png": "[encoded data removed]",
      "text/plain": [
       "<Figure size 640x480 with 1 Axes>"
      ]
     },
     "metadata": {},
     "output_type": "display_data"
    }
   ],
   "source": [
    "# Visualizing the training set results.\n",
    "\n",
    "plot_test = plt\n",
    "plot_test.scatter(X_train, y_train, color='green', s = 15)\n",
    "plot_test.plot(X_train, y_predicted_train, color='red', linewidth =3)\n",
    "plot_test.title('Accident counts (daily) vs Humidity (Test set)', fontsize=12, fontweight='bold')\n",
    "plot_test.xlabel('Humidity (%)')\n",
    "plot_test.ylabel('Accident Count (Aggregated by Day)')\n",
    "plot_test.show()"
   ]
  },
  {
   "cell_type": "markdown",
   "id": "73ac69cd-36e1-46a8-b05c-e8c742068564",
   "metadata": {},
   "source": [
    "> **Model Performance:** The linear regression using humidity to predict accident counts performs poorly. Predicted values often deviate substantially from actual counts, reflected in a very low R² (0.0028) and high MSE.\n",
    "> * Humidity alone explains almost none of the variation in accidents.\n",
    "> * Other factors like time of day, traffic volume, weather type, and location likely have stronger influence.\n",
    "> * Data biases (e.g., regional differences, seasonal effects) may impact model accuracy.\n",
    "\n",
    ">**Conclusion:** A univariate model with humidity is insufficient."
   ]
  },
  {
   "cell_type": "code",
   "execution_count": null,
   "id": "d4ca54d0-f953-4914-a0ac-97117846938e",
   "metadata": {},
   "outputs": [],
   "source": []
  }
 ],
 "metadata": {
  "kernelspec": {
   "display_name": "Python (myenv)",
   "language": "python",
   "name": "myenv"
  },
  "language_info": {
   "codemirror_mode": {
    "name": "ipython",
    "version": 3
   },
   "file_extension": ".py",
   "mimetype": "text/x-python",
   "name": "python",
   "nbconvert_exporter": "python",
   "pygments_lexer": "ipython3",
   "version": "3.11.13"
  }
 },
 "nbformat": 4,
 "nbformat_minor": 5
}
